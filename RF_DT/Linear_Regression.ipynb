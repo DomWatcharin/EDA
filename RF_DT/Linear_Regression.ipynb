{
 "cells": [
  {
   "cell_type": "markdown",
   "id": "4413999d",
   "metadata": {},
   "source": [
    "### 1.Import the necessary libraries:"
   ]
  },
  {
   "cell_type": "code",
   "execution_count": 8,
   "id": "637f9686",
   "metadata": {},
   "outputs": [],
   "source": [
    "import pandas as pd\n",
    "import numpy as np\n",
    "import matplotlib.pyplot as plt\n",
    "from sklearn.model_selection import train_test_split\n",
    "from sklearn.linear_model import LinearRegression\n",
    "from sklearn.metrics import mean_squared_error, r2_score"
   ]
  },
  {
   "cell_type": "markdown",
   "id": "dc549f09",
   "metadata": {},
   "source": [
    "### 2.Load the dataset:"
   ]
  },
  {
   "cell_type": "code",
   "execution_count": 16,
   "id": "c9d1b351",
   "metadata": {},
   "outputs": [],
   "source": [
    "data = pd.read_csv('/Users/watcharin-p/Documents/GitHub/EDA/RF_DT/loan_data.csv')"
   ]
  },
  {
   "cell_type": "code",
   "execution_count": 20,
   "id": "9ab0d4da",
   "metadata": {},
   "outputs": [
    {
     "name": "stdout",
     "output_type": "stream",
     "text": [
      "      credit.policy             purpose  int.rate  installment  \\\n",
      "0                 1  debt_consolidation    0.1189       829.10   \n",
      "1                 1         credit_card    0.1071       228.22   \n",
      "2                 1  debt_consolidation    0.1357       366.86   \n",
      "3                 1  debt_consolidation    0.1008       162.34   \n",
      "4                 1         credit_card    0.1426       102.92   \n",
      "...             ...                 ...       ...          ...   \n",
      "9573              0           all_other    0.1461       344.76   \n",
      "9574              0           all_other    0.1253       257.70   \n",
      "9575              0  debt_consolidation    0.1071        97.81   \n",
      "9576              0    home_improvement    0.1600       351.58   \n",
      "9577              0  debt_consolidation    0.1392       853.43   \n",
      "\n",
      "      log.annual.inc    dti  fico  days.with.cr.line  revol.bal  revol.util  \\\n",
      "0          11.350407  19.48   737        5639.958333      28854        52.1   \n",
      "1          11.082143  14.29   707        2760.000000      33623        76.7   \n",
      "2          10.373491  11.63   682        4710.000000       3511        25.6   \n",
      "3          11.350407   8.10   712        2699.958333      33667        73.2   \n",
      "4          11.299732  14.97   667        4066.000000       4740        39.5   \n",
      "...              ...    ...   ...                ...        ...         ...   \n",
      "9573       12.180755  10.39   672       10474.000000     215372        82.1   \n",
      "9574       11.141862   0.21   722        4380.000000        184         1.1   \n",
      "9575       10.596635  13.09   687        3450.041667      10036        82.9   \n",
      "9576       10.819778  19.18   692        1800.000000          0         3.2   \n",
      "9577       11.264464  16.28   732        4740.000000      37879        57.0   \n",
      "\n",
      "      inq.last.6mths  delinq.2yrs  pub.rec  not.fully.paid  \n",
      "0                  0            0        0               0  \n",
      "1                  0            0        0               0  \n",
      "2                  1            0        0               0  \n",
      "3                  1            0        0               0  \n",
      "4                  0            1        0               0  \n",
      "...              ...          ...      ...             ...  \n",
      "9573               2            0        0               1  \n",
      "9574               5            0        0               1  \n",
      "9575               8            0        0               1  \n",
      "9576               5            0        0               1  \n",
      "9577               6            0        0               1  \n",
      "\n",
      "[9578 rows x 14 columns]\n"
     ]
    }
   ],
   "source": [
    "print(data)"
   ]
  },
  {
   "cell_type": "markdown",
   "id": "186c3bd7",
   "metadata": {},
   "source": [
    "### Data Cleansing"
   ]
  },
  {
   "cell_type": "code",
   "execution_count": 22,
   "id": "e1763754",
   "metadata": {},
   "outputs": [
    {
     "name": "stdout",
     "output_type": "stream",
     "text": [
      "credit.policy        0\n",
      "purpose              0\n",
      "int.rate             0\n",
      "installment          0\n",
      "log.annual.inc       0\n",
      "dti                  0\n",
      "fico                 0\n",
      "days.with.cr.line    0\n",
      "revol.bal            0\n",
      "revol.util           0\n",
      "inq.last.6mths       0\n",
      "delinq.2yrs          0\n",
      "pub.rec              0\n",
      "not.fully.paid       0\n",
      "dtype: int64\n"
     ]
    }
   ],
   "source": [
    "# Check for missing values\n",
    "print(data.isnull().sum())  # Count missing values in each column\n",
    "\n",
    "# Drop rows with missing values\n",
    "data = data.dropna()\n",
    "\n",
    "# Remove outliers using z-score\n",
    "from scipy import stats\n",
    "z_scores = stats.zscore(data['fico'])\n",
    "data = data[(z_scores < 3)]\n",
    "\n",
    "# Convert data types if needed\n",
    "# Example: data['date_column'] = pd.to_datetime(data['date_column'])\n",
    "\n",
    "# Drop irrelevant columns if needed\n",
    "# Example: data = data.drop(['column1', 'column2'], axis=1)\n",
    "\n",
    "# Remove duplicate rows if needed\n",
    "# Example: data = data.drop_duplicates()\n",
    "\n",
    "# Standardize categorical values if needed\n",
    "# Example: data['categorical_column'] = data['categorical_column'].replace({'category1': 'Category 1', 'category2': 'Category 2'})\n",
    "\n",
    "# Correct errors or typos if needed\n",
    "# Example: data['text_column'] = data['text_column'].str.replace('error', 'corrected')\n",
    "\n",
    "# Save the cleaned data to a new file if needed\n",
    "# Example: data.to_csv('/Users/watcharin-p/Documents/GitHub/EDA/RF_DT/cleaned_loan_data.csv', index=False)\n"
   ]
  },
  {
   "cell_type": "markdown",
   "id": "6b6314a8",
   "metadata": {},
   "source": [
    "### 3.Prepare the data:\n",
    "\n",
    "#### Select the feature variables (X) and the target variable (y):"
   ]
  },
  {
   "cell_type": "code",
   "execution_count": 21,
   "id": "4be71b3a",
   "metadata": {},
   "outputs": [],
   "source": [
    "X = data[['fico', 'int.rate', 'installment', 'log.annual.inc']]  # Replace with the actual feature column names\n",
    "y = data['not.fully.paid']  # Replace with the actual target column name"
   ]
  },
  {
   "cell_type": "markdown",
   "id": "69f41f66",
   "metadata": {},
   "source": [
    "#### Split the data into training and testing sets:"
   ]
  },
  {
   "cell_type": "code",
   "execution_count": 24,
   "id": "861295e4",
   "metadata": {},
   "outputs": [],
   "source": [
    "X_train, X_test, y_train, y_test = train_test_split(X, y, test_size=0.2, random_state=42)"
   ]
  },
  {
   "cell_type": "markdown",
   "id": "4848742f",
   "metadata": {},
   "source": [
    "### 4.Create and train the linear regression model:"
   ]
  },
  {
   "cell_type": "code",
   "execution_count": 25,
   "id": "99c1e04a",
   "metadata": {},
   "outputs": [
    {
     "data": {
      "text/html": [
       "<style>#sk-container-id-1 {color: black;background-color: white;}#sk-container-id-1 pre{padding: 0;}#sk-container-id-1 div.sk-toggleable {background-color: white;}#sk-container-id-1 label.sk-toggleable__label {cursor: pointer;display: block;width: 100%;margin-bottom: 0;padding: 0.3em;box-sizing: border-box;text-align: center;}#sk-container-id-1 label.sk-toggleable__label-arrow:before {content: \"▸\";float: left;margin-right: 0.25em;color: #696969;}#sk-container-id-1 label.sk-toggleable__label-arrow:hover:before {color: black;}#sk-container-id-1 div.sk-estimator:hover label.sk-toggleable__label-arrow:before {color: black;}#sk-container-id-1 div.sk-toggleable__content {max-height: 0;max-width: 0;overflow: hidden;text-align: left;background-color: #f0f8ff;}#sk-container-id-1 div.sk-toggleable__content pre {margin: 0.2em;color: black;border-radius: 0.25em;background-color: #f0f8ff;}#sk-container-id-1 input.sk-toggleable__control:checked~div.sk-toggleable__content {max-height: 200px;max-width: 100%;overflow: auto;}#sk-container-id-1 input.sk-toggleable__control:checked~label.sk-toggleable__label-arrow:before {content: \"▾\";}#sk-container-id-1 div.sk-estimator input.sk-toggleable__control:checked~label.sk-toggleable__label {background-color: #d4ebff;}#sk-container-id-1 div.sk-label input.sk-toggleable__control:checked~label.sk-toggleable__label {background-color: #d4ebff;}#sk-container-id-1 input.sk-hidden--visually {border: 0;clip: rect(1px 1px 1px 1px);clip: rect(1px, 1px, 1px, 1px);height: 1px;margin: -1px;overflow: hidden;padding: 0;position: absolute;width: 1px;}#sk-container-id-1 div.sk-estimator {font-family: monospace;background-color: #f0f8ff;border: 1px dotted black;border-radius: 0.25em;box-sizing: border-box;margin-bottom: 0.5em;}#sk-container-id-1 div.sk-estimator:hover {background-color: #d4ebff;}#sk-container-id-1 div.sk-parallel-item::after {content: \"\";width: 100%;border-bottom: 1px solid gray;flex-grow: 1;}#sk-container-id-1 div.sk-label:hover label.sk-toggleable__label {background-color: #d4ebff;}#sk-container-id-1 div.sk-serial::before {content: \"\";position: absolute;border-left: 1px solid gray;box-sizing: border-box;top: 0;bottom: 0;left: 50%;z-index: 0;}#sk-container-id-1 div.sk-serial {display: flex;flex-direction: column;align-items: center;background-color: white;padding-right: 0.2em;padding-left: 0.2em;position: relative;}#sk-container-id-1 div.sk-item {position: relative;z-index: 1;}#sk-container-id-1 div.sk-parallel {display: flex;align-items: stretch;justify-content: center;background-color: white;position: relative;}#sk-container-id-1 div.sk-item::before, #sk-container-id-1 div.sk-parallel-item::before {content: \"\";position: absolute;border-left: 1px solid gray;box-sizing: border-box;top: 0;bottom: 0;left: 50%;z-index: -1;}#sk-container-id-1 div.sk-parallel-item {display: flex;flex-direction: column;z-index: 1;position: relative;background-color: white;}#sk-container-id-1 div.sk-parallel-item:first-child::after {align-self: flex-end;width: 50%;}#sk-container-id-1 div.sk-parallel-item:last-child::after {align-self: flex-start;width: 50%;}#sk-container-id-1 div.sk-parallel-item:only-child::after {width: 0;}#sk-container-id-1 div.sk-dashed-wrapped {border: 1px dashed gray;margin: 0 0.4em 0.5em 0.4em;box-sizing: border-box;padding-bottom: 0.4em;background-color: white;}#sk-container-id-1 div.sk-label label {font-family: monospace;font-weight: bold;display: inline-block;line-height: 1.2em;}#sk-container-id-1 div.sk-label-container {text-align: center;}#sk-container-id-1 div.sk-container {/* jupyter's `normalize.less` sets `[hidden] { display: none; }` but bootstrap.min.css set `[hidden] { display: none !important; }` so we also need the `!important` here to be able to override the default hidden behavior on the sphinx rendered scikit-learn.org. See: https://github.com/scikit-learn/scikit-learn/issues/21755 */display: inline-block !important;position: relative;}#sk-container-id-1 div.sk-text-repr-fallback {display: none;}</style><div id=\"sk-container-id-1\" class=\"sk-top-container\"><div class=\"sk-text-repr-fallback\"><pre>LinearRegression()</pre><b>In a Jupyter environment, please rerun this cell to show the HTML representation or trust the notebook. <br />On GitHub, the HTML representation is unable to render, please try loading this page with nbviewer.org.</b></div><div class=\"sk-container\" hidden><div class=\"sk-item\"><div class=\"sk-estimator sk-toggleable\"><input class=\"sk-toggleable__control sk-hidden--visually\" id=\"sk-estimator-id-1\" type=\"checkbox\" checked><label for=\"sk-estimator-id-1\" class=\"sk-toggleable__label sk-toggleable__label-arrow\">LinearRegression</label><div class=\"sk-toggleable__content\"><pre>LinearRegression()</pre></div></div></div></div></div>"
      ],
      "text/plain": [
       "LinearRegression()"
      ]
     },
     "execution_count": 25,
     "metadata": {},
     "output_type": "execute_result"
    }
   ],
   "source": [
    "model = LinearRegression()\n",
    "model.fit(X_train, y_train)"
   ]
  },
  {
   "cell_type": "markdown",
   "id": "607bb1f2",
   "metadata": {},
   "source": [
    "### 5.Make predictions on the test set:"
   ]
  },
  {
   "cell_type": "code",
   "execution_count": 26,
   "id": "abaab119",
   "metadata": {},
   "outputs": [],
   "source": [
    "y_pred = model.predict(X_test)"
   ]
  },
  {
   "cell_type": "markdown",
   "id": "44cc80ba",
   "metadata": {},
   "source": [
    "### 6.Evaluate the model:"
   ]
  },
  {
   "cell_type": "markdown",
   "id": "26d012aa",
   "metadata": {},
   "source": [
    "#### Calculate the Mean Squared Error (MSE):"
   ]
  },
  {
   "cell_type": "code",
   "execution_count": 27,
   "id": "76253490",
   "metadata": {},
   "outputs": [],
   "source": [
    "mse = mean_squared_error(y_test, y_pred)"
   ]
  },
  {
   "cell_type": "markdown",
   "id": "aa45cb88",
   "metadata": {},
   "source": [
    "#### Calculate the coefficient of determination (R-squared):"
   ]
  },
  {
   "cell_type": "code",
   "execution_count": 28,
   "id": "7be6d626",
   "metadata": {},
   "outputs": [],
   "source": [
    "r2 = r2_score(y_test, y_pred)"
   ]
  },
  {
   "cell_type": "markdown",
   "id": "5a95e9ff",
   "metadata": {},
   "source": [
    "#### Print the evaluation metrics:"
   ]
  },
  {
   "cell_type": "code",
   "execution_count": 29,
   "id": "e9d7a055",
   "metadata": {},
   "outputs": [
    {
     "name": "stdout",
     "output_type": "stream",
     "text": [
      "Mean Squared Error: 0.12877868019651095\n",
      "R-squared: 0.03785705527066441\n"
     ]
    }
   ],
   "source": [
    "print('Mean Squared Error:', mse)\n",
    "print('R-squared:', r2)"
   ]
  },
  {
   "cell_type": "markdown",
   "id": "7d798e62",
   "metadata": {},
   "source": [
    "### Visualize the results (optional):"
   ]
  },
  {
   "cell_type": "markdown",
   "id": "724f53e5",
   "metadata": {},
   "source": [
    "#### Plot the predicted values against the actual values:"
   ]
  },
  {
   "cell_type": "code",
   "execution_count": 32,
   "id": "fe16d97a",
   "metadata": {},
   "outputs": [
    {
     "data": {
      "image/png": "[encoded data removed]",
      "text/plain": [
       "<Figure size 640x480 with 1 Axes>"
      ]
     },
     "metadata": {},
     "output_type": "display_data"
    }
   ],
   "source": [
    "plt.scatter(y_test, y_pred)\n",
    "plt.plot([y_test.min(), y_test.max()], [y_test.min(), y_test.max()], 'r--')\n",
    "plt.xlabel('Actual')\n",
    "plt.ylabel('Predicted')\n",
    "plt.title('Actual vs Predicted')\n",
    "plt.show()"
   ]
  },
  {
   "cell_type": "markdown",
   "id": "bb26a83a",
   "metadata": {},
   "source": [
    "#### Plot the residuals:"
   ]
  },
  {
   "cell_type": "code",
   "execution_count": 34,
   "id": "ae1e8e15",
   "metadata": {},
   "outputs": [
    {
     "data": {
      "image/png": "[encoded data removed]",
      "text/plain": [
       "<Figure size 640x480 with 1 Axes>"
      ]
     },
     "metadata": {},
     "output_type": "display_data"
    }
   ],
   "source": [
    "residuals = y_test - y_pred\n",
    "plt.scatter(y_pred, residuals)\n",
    "plt.xlabel('Predicted')\n",
    "plt.ylabel('Residuals')\n",
    "plt.title('Residual Plot')\n",
    "plt.axhline(y=0, color='r', linestyle='--')\n",
    "plt.show()"
   ]
  }
 ],
 "metadata": {
  "kernelspec": {
   "display_name": "Python 3 (ipykernel)",
   "language": "python",
   "name": "python3"
  },
  "language_info": {
   "codemirror_mode": {
    "name": "ipython",
    "version": 3
   },
   "file_extension": ".py",
   "mimetype": "text/x-python",
   "name": "python",
   "nbconvert_exporter": "python",
   "pygments_lexer": "ipython3",
   "version": "3.10.11"
  }
 },
 "nbformat": 4,
 "nbformat_minor": 5
}
